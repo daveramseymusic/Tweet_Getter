{
 "cells": [
  {
   "cell_type": "markdown",
   "metadata": {},
   "source": [
    "# Tweepy Tweet to DataFrame Downloader\n",
    "Load tweets using tweepy with the twitter API and turn into a pandas dataframe for data science and AI"
   ]
  },
  {
   "cell_type": "markdown",
   "metadata": {},
   "source": [
    "### Setup"
   ]
  },
  {
   "cell_type": "code",
   "execution_count": 1,
   "metadata": {},
   "outputs": [],
   "source": [
    "import tweepy\n",
    "import pandas as pd\n",
    "import re"
   ]
  },
  {
   "cell_type": "code",
   "execution_count": 2,
   "metadata": {},
   "outputs": [],
   "source": [
    "#run page where passwords are saved\n",
    "%run ./tweepy_passwds.ipynb"
   ]
  },
  {
   "cell_type": "code",
   "execution_count": 3,
   "metadata": {},
   "outputs": [],
   "source": [
    "# set up authorization access objects\n",
    "auth = tweepy.OAuthHandler(consumer_key, consumer_secret)\n",
    "auth.set_access_token(access_token, access_token_secret)\n",
    "api = tweepy.API(auth, wait_on_rate_limit=True, wait_on_rate_limit_notify=True)"
   ]
  },
  {
   "cell_type": "code",
   "execution_count": 4,
   "metadata": {},
   "outputs": [],
   "source": [
    "# Cursor Handler\n",
    "import time\n",
    "def limit_handled(cursor):\n",
    "    while True:\n",
    "        try:\n",
    "            yield cursor.next()\n",
    "        except tweepy.RateLimitError:\n",
    "            # send email / webhook/ log\n",
    "            print('sleeping for 15 min')\n",
    "            time.sleep(15*60) # 15 minutes =15*60 sec\n",
    "        \n",
    "        except StopIteration:\n",
    "            return"
   ]
  },
  {
   "cell_type": "markdown",
   "metadata": {},
   "source": [
    "Function to extraact Cursor object"
   ]
  },
  {
   "cell_type": "code",
   "execution_count": 57,
   "metadata": {},
   "outputs": [],
   "source": [
    "# extraction function\n",
    "\n",
    "def extract_df(cursor):\n",
    "    columns = set()\n",
    "    allowed_types = [str, int]\n",
    "    tweets_data = []\n",
    "    # test cursor for 1 tweet\n",
    "    for status in cursor:\n",
    "        status_dict = dict(vars(status))\n",
    "        keys = vars(status).keys()\n",
    "        single_tweet_data = {'user': status.user.screen_name, 'author':status.author.screen_name, 'timestamp':status.created_at}\n",
    "        try:\n",
    "            single_tweet_data['full_retweet_txt'] = status.retweeted_status.full_text\n",
    "        except AttributeError:\n",
    "            single_tweet_data['full_retweet_txt'] = status.full_text\n",
    "        for k in keys:\n",
    "            try:\n",
    "                v_type = type(status_dict[k])\n",
    "            except:\n",
    "                v_type = None\n",
    "            if v_type != None:\n",
    "                if v_type in allowed_types:\n",
    "                    single_tweet_data[k] = status_dict[k]\n",
    "                    columns.add(k)\n",
    "        tweets_data.append(single_tweet_data)\n",
    "\n",
    "    header_cols = list(columns)\n",
    "    header_cols.append('user')\n",
    "    header_cols.append('author')\n",
    "    header_cols.append('full_retweet_txt')\n",
    "    header_cols.append('timestamp')\n",
    "    df = pd.DataFrame(tweets_data, columns=header_cols)\n",
    "    return df"
   ]
  },
  {
   "cell_type": "markdown",
   "metadata": {},
   "source": [
    "#### Save search query variables"
   ]
  },
  {
   "cell_type": "code",
   "execution_count": null,
   "metadata": {},
   "outputs": [],
   "source": [
    "# Search\n",
    "query = '#votenoontherecall -#recallgavinnewsom until:2021-09-15 min_retweets:0'\n",
    "num_tweets = 4000"
   ]
  },
  {
   "cell_type": "markdown",
   "metadata": {},
   "source": [
    "## Download tweets and turn in to df"
   ]
  },
  {
   "cell_type": "code",
   "execution_count": 51,
   "metadata": {},
   "outputs": [
    {
     "name": "stderr",
     "output_type": "stream",
     "text": [
      "Rate limit reached. Sleeping for: 838\n"
     ]
    },
    {
     "data": {
      "text/html": [
       "<div>\n",
       "<style scoped>\n",
       "    .dataframe tbody tr th:only-of-type {\n",
       "        vertical-align: middle;\n",
       "    }\n",
       "\n",
       "    .dataframe tbody tr th {\n",
       "        vertical-align: top;\n",
       "    }\n",
       "\n",
       "    .dataframe thead th {\n",
       "        text-align: right;\n",
       "    }\n",
       "</style>\n",
       "<table border=\"1\" class=\"dataframe\">\n",
       "  <thead>\n",
       "    <tr style=\"text-align: right;\">\n",
       "      <th></th>\n",
       "      <th>in_reply_to_status_id</th>\n",
       "      <th>quoted_status_id</th>\n",
       "      <th>source_url</th>\n",
       "      <th>retweet_count</th>\n",
       "      <th>in_reply_to_status_id_str</th>\n",
       "      <th>in_reply_to_user_id_str</th>\n",
       "      <th>id</th>\n",
       "      <th>in_reply_to_screen_name</th>\n",
       "      <th>quoted_status_id_str</th>\n",
       "      <th>in_reply_to_user_id</th>\n",
       "      <th>favorite_count</th>\n",
       "      <th>id_str</th>\n",
       "      <th>full_text</th>\n",
       "      <th>source</th>\n",
       "      <th>lang</th>\n",
       "      <th>user</th>\n",
       "      <th>author</th>\n",
       "      <th>full_retweet_txt</th>\n",
       "      <th>timestamp</th>\n",
       "    </tr>\n",
       "  </thead>\n",
       "  <tbody>\n",
       "    <tr>\n",
       "      <th>3995</th>\n",
       "      <td>NaN</td>\n",
       "      <td>NaN</td>\n",
       "      <td>https://mobile.twitter.com</td>\n",
       "      <td>4</td>\n",
       "      <td>NaN</td>\n",
       "      <td>NaN</td>\n",
       "      <td>1437899718403706883</td>\n",
       "      <td>NaN</td>\n",
       "      <td>NaN</td>\n",
       "      <td>NaN</td>\n",
       "      <td>0</td>\n",
       "      <td>1437899718403706883</td>\n",
       "      <td>RT @FreedomInc5: #VoteNoOnTheRecall https://t....</td>\n",
       "      <td>Twitter Web App</td>\n",
       "      <td>und</td>\n",
       "      <td>Spacereportern1</td>\n",
       "      <td>Spacereportern1</td>\n",
       "      <td>#VoteNoOnTheRecall https://t.co/mASeCxzRkl</td>\n",
       "      <td>2021-09-14 22:03:02</td>\n",
       "    </tr>\n",
       "    <tr>\n",
       "      <th>3996</th>\n",
       "      <td>NaN</td>\n",
       "      <td>NaN</td>\n",
       "      <td>https://mobile.twitter.com</td>\n",
       "      <td>56</td>\n",
       "      <td>NaN</td>\n",
       "      <td>NaN</td>\n",
       "      <td>1437899687151943692</td>\n",
       "      <td>NaN</td>\n",
       "      <td>NaN</td>\n",
       "      <td>NaN</td>\n",
       "      <td>0</td>\n",
       "      <td>1437899687151943692</td>\n",
       "      <td>RT @DogginTrump: I dont want to end up with th...</td>\n",
       "      <td>Twitter Web App</td>\n",
       "      <td>en</td>\n",
       "      <td>8675309_6</td>\n",
       "      <td>8675309_6</td>\n",
       "      <td>I dont want to end up with this asshole as our...</td>\n",
       "      <td>2021-09-14 22:02:54</td>\n",
       "    </tr>\n",
       "    <tr>\n",
       "      <th>3997</th>\n",
       "      <td>NaN</td>\n",
       "      <td>NaN</td>\n",
       "      <td>https://mobile.twitter.com</td>\n",
       "      <td>97</td>\n",
       "      <td>NaN</td>\n",
       "      <td>NaN</td>\n",
       "      <td>1437899670873911303</td>\n",
       "      <td>NaN</td>\n",
       "      <td>NaN</td>\n",
       "      <td>NaN</td>\n",
       "      <td>0</td>\n",
       "      <td>1437899670873911303</td>\n",
       "      <td>RT @MiaBonta: Our message is clear! #VoteNoOnT...</td>\n",
       "      <td>Twitter Web App</td>\n",
       "      <td>en</td>\n",
       "      <td>8675309_6</td>\n",
       "      <td>8675309_6</td>\n",
       "      <td>Our message is clear! #VoteNoOnTheRecall @seiu...</td>\n",
       "      <td>2021-09-14 22:02:51</td>\n",
       "    </tr>\n",
       "    <tr>\n",
       "      <th>3998</th>\n",
       "      <td>1.437788e+18</td>\n",
       "      <td>NaN</td>\n",
       "      <td>http://twitter.com/#!/download/ipad</td>\n",
       "      <td>0</td>\n",
       "      <td>1437787679278653448</td>\n",
       "      <td>1640929196</td>\n",
       "      <td>1437899668705349632</td>\n",
       "      <td>mmpadellan</td>\n",
       "      <td>NaN</td>\n",
       "      <td>1.640929e+09</td>\n",
       "      <td>1</td>\n",
       "      <td>1437899668705349632</td>\n",
       "      <td>@mmpadellan @i_am4tunate #VoteNoOnTheRecall</td>\n",
       "      <td>Twitter for iPad</td>\n",
       "      <td>und</td>\n",
       "      <td>Sherrie00</td>\n",
       "      <td>Sherrie00</td>\n",
       "      <td>@mmpadellan @i_am4tunate #VoteNoOnTheRecall</td>\n",
       "      <td>2021-09-14 22:02:50</td>\n",
       "    </tr>\n",
       "    <tr>\n",
       "      <th>3999</th>\n",
       "      <td>NaN</td>\n",
       "      <td>NaN</td>\n",
       "      <td>http://twitter.com/download/iphone</td>\n",
       "      <td>0</td>\n",
       "      <td>NaN</td>\n",
       "      <td>NaN</td>\n",
       "      <td>1437899666587193347</td>\n",
       "      <td>NaN</td>\n",
       "      <td>NaN</td>\n",
       "      <td>NaN</td>\n",
       "      <td>0</td>\n",
       "      <td>1437899666587193347</td>\n",
       "      <td>#VoteNoOnTheRecall</td>\n",
       "      <td>Twitter for iPhone</td>\n",
       "      <td>und</td>\n",
       "      <td>purplebieber1D</td>\n",
       "      <td>purplebieber1D</td>\n",
       "      <td>#VoteNoOnTheRecall</td>\n",
       "      <td>2021-09-14 22:02:50</td>\n",
       "    </tr>\n",
       "  </tbody>\n",
       "</table>\n",
       "</div>"
      ],
      "text/plain": [
       "      in_reply_to_status_id  quoted_status_id  \\\n",
       "3995                    NaN               NaN   \n",
       "3996                    NaN               NaN   \n",
       "3997                    NaN               NaN   \n",
       "3998           1.437788e+18               NaN   \n",
       "3999                    NaN               NaN   \n",
       "\n",
       "                               source_url  retweet_count  \\\n",
       "3995           https://mobile.twitter.com              4   \n",
       "3996           https://mobile.twitter.com             56   \n",
       "3997           https://mobile.twitter.com             97   \n",
       "3998  http://twitter.com/#!/download/ipad              0   \n",
       "3999   http://twitter.com/download/iphone              0   \n",
       "\n",
       "     in_reply_to_status_id_str in_reply_to_user_id_str                   id  \\\n",
       "3995                       NaN                     NaN  1437899718403706883   \n",
       "3996                       NaN                     NaN  1437899687151943692   \n",
       "3997                       NaN                     NaN  1437899670873911303   \n",
       "3998       1437787679278653448              1640929196  1437899668705349632   \n",
       "3999                       NaN                     NaN  1437899666587193347   \n",
       "\n",
       "     in_reply_to_screen_name quoted_status_id_str  in_reply_to_user_id  \\\n",
       "3995                     NaN                  NaN                  NaN   \n",
       "3996                     NaN                  NaN                  NaN   \n",
       "3997                     NaN                  NaN                  NaN   \n",
       "3998              mmpadellan                  NaN         1.640929e+09   \n",
       "3999                     NaN                  NaN                  NaN   \n",
       "\n",
       "      favorite_count               id_str  \\\n",
       "3995               0  1437899718403706883   \n",
       "3996               0  1437899687151943692   \n",
       "3997               0  1437899670873911303   \n",
       "3998               1  1437899668705349632   \n",
       "3999               0  1437899666587193347   \n",
       "\n",
       "                                              full_text              source  \\\n",
       "3995  RT @FreedomInc5: #VoteNoOnTheRecall https://t....     Twitter Web App   \n",
       "3996  RT @DogginTrump: I dont want to end up with th...     Twitter Web App   \n",
       "3997  RT @MiaBonta: Our message is clear! #VoteNoOnT...     Twitter Web App   \n",
       "3998        @mmpadellan @i_am4tunate #VoteNoOnTheRecall    Twitter for iPad   \n",
       "3999                                 #VoteNoOnTheRecall  Twitter for iPhone   \n",
       "\n",
       "     lang             user           author  \\\n",
       "3995  und  Spacereportern1  Spacereportern1   \n",
       "3996   en        8675309_6        8675309_6   \n",
       "3997   en        8675309_6        8675309_6   \n",
       "3998  und        Sherrie00        Sherrie00   \n",
       "3999  und   purplebieber1D   purplebieber1D   \n",
       "\n",
       "                                       full_retweet_txt           timestamp  \n",
       "3995         #VoteNoOnTheRecall https://t.co/mASeCxzRkl 2021-09-14 22:03:02  \n",
       "3996  I dont want to end up with this asshole as our... 2021-09-14 22:02:54  \n",
       "3997  Our message is clear! #VoteNoOnTheRecall @seiu... 2021-09-14 22:02:51  \n",
       "3998        @mmpadellan @i_am4tunate #VoteNoOnTheRecall 2021-09-14 22:02:50  \n",
       "3999                                 #VoteNoOnTheRecall 2021-09-14 22:02:50  "
      ]
     },
     "execution_count": 51,
     "metadata": {},
     "output_type": "execute_result"
    }
   ],
   "source": [
    "df = extract_df(limit_handled(tweepy.Cursor(api.search, q=query,tweet_mode='extended').items(num_tweets)))\n",
    "df.tail(5)"
   ]
  },
  {
   "cell_type": "markdown",
   "metadata": {},
   "source": [
    "#### Clean Up Query to Save as CSV\n",
    "Turn the query actual query into snake case to use as the name of the csv automatically"
   ]
  },
  {
   "cell_type": "code",
   "execution_count": 55,
   "metadata": {},
   "outputs": [
    {
     "data": {
      "text/plain": [
       "'#votenoontherecall_-#recallgavinnewsom_until:2021-09-15_min_retweets:0'"
      ]
     },
     "execution_count": 55,
     "metadata": {},
     "output_type": "execute_result"
    }
   ],
   "source": [
    "clean_query = re.sub('\\s','_', query)\n",
    "clean_query"
   ]
  },
  {
   "cell_type": "code",
   "execution_count": 56,
   "metadata": {},
   "outputs": [
    {
     "data": {
      "text/plain": [
       "'#votenoontherecall_-#recallgavinnewsom_until:2021-09-15_min_retweets:0_4000rows.csv'"
      ]
     },
     "execution_count": 56,
     "metadata": {},
     "output_type": "execute_result"
    }
   ],
   "source": [
    "rows = len(df)\n",
    "df.to_csv(f'{clean_query}_{rows}rows.csv')\n",
    "f'{clean_query}_{rows}rows.csv'"
   ]
  }
 ],
 "metadata": {
  "kernelspec": {
   "display_name": "Python 3",
   "language": "python",
   "name": "python3"
  },
  "language_info": {
   "codemirror_mode": {
    "name": "ipython",
    "version": 3
   },
   "file_extension": ".py",
   "mimetype": "text/x-python",
   "name": "python",
   "nbconvert_exporter": "python",
   "pygments_lexer": "ipython3",
   "version": "3.8.6"
  }
 },
 "nbformat": 4,
 "nbformat_minor": 4
}
